{
 "cells": [
  {
   "cell_type": "code",
   "execution_count": 54,
   "metadata": {
    "collapsed": true
   },
   "outputs": [],
   "source": [
    "import matplotlib.pyplot as plt\n",
    "import matplotlib\n",
    "import numpy as np\n",
    "import math"
   ]
  },
  {
   "cell_type": "code",
   "execution_count": 55,
   "metadata": {
    "collapsed": true
   },
   "outputs": [],
   "source": [
    "earth_mass = 5.97e24 # kg\n",
    "earth_radius = 6.378e6 # m (at equator)\n",
    "gravitational_constant = 6.67e-11 # m3 / kg s2\n",
    "moon_mass = 7.35e22 # kg\n",
    "moon_radius = 1.74e6 # m\n",
    "moon_distance = 400.5e6 # m (actually, not at all a constant)\n",
    "moon_period = 27.3 * 24.0 * 3600. # s\n",
    "moon_initial_angle = math.pi / 180. * -61. # radian\n",
    "\n",
    "total_duration = 1 *12. * 24. * 3600. # s\n",
    "marker_time = 0.5 * 3600. # s\n",
    "tolerance = 100000. # m"
   ]
  },
  {
   "cell_type": "code",
   "execution_count": 56,
   "metadata": {
    "collapsed": true
   },
   "outputs": [],
   "source": [
    "def moon_position(time):\n",
    "# Task 1: Compute the moon's position (a vector) at time t. Let it start at moon_initial_angle, not on the horizontal axis.   \n",
    "    ###Your code here.\n",
    "    position = np.zeros(2)\n",
    "    moon_angle = moon_initial_angle + 2 * math.pi * time/moon_period \n",
    "    position[0] = moon_distance * math.cos(moon_angle)\n",
    "    position[1] = moon_distance * math.sin(moon_angle)\n",
    "    return position"
   ]
  },
  {
   "cell_type": "code",
   "execution_count": 57,
   "metadata": {
    "collapsed": true
   },
   "outputs": [],
   "source": [
    "def acceleration(time, position):\n",
    "# Task 2: Compute the spacecraft's acceleration due to gravity\n",
    "\t###Your code here.\n",
    "    moon_pos = moon_position(time)\n",
    "    moon_vector = position - moon_pos\n",
    "    earth_vector = position\n",
    "    acc = - gravitational_constant * earth_mass * earth_vector/np.linalg.norm(earth_vector)**3 - \\\n",
    "            gravitational_constant * moon_mass * moon_vector/np.linalg.norm(moon_vector)**3\n",
    "    return acc  "
   ]
  },
  {
   "cell_type": "code",
   "execution_count": 58,
   "metadata": {},
   "outputs": [
    {
     "data": {
      "text/plain": [
       "Text(0, 0.5, 'Lateral position in m')"
      ]
     },
     "execution_count": 58,
     "metadata": {},
     "output_type": "execute_result"
    },
    {
     "data": {
      "image/png": "[encoded data removed]",
      "text/plain": [
       "<Figure size 432x288 with 1 Axes>"
      ]
     },
     "metadata": {
      "needs_background": "light"
     },
     "output_type": "display_data"
    }
   ],
   "source": [
    "axes = plt.gca()\n",
    "axes.set_xlabel('Longitudinal position in m')\n",
    "axes.set_ylabel('Lateral position in m')\n"
   ]
  },
  {
   "cell_type": "code",
   "execution_count": 63,
   "metadata": {
    "collapsed": true
   },
   "outputs": [],
   "source": [
    "def apply_boost():\n",
    "\n",
    "    # Do not worry about the arrays position_list, velocity_list, and times_list.  \n",
    "    # They are simply used for plotting and evaluating your code, so none of the \n",
    "    # code that you add should involve them.\n",
    "    \n",
    "    boost = 10. # m/s Change this to the correct value from the list above after everything else is done.\n",
    "    position_list = [np.array([-6.701e6, 0.])] # m\n",
    "    velocity_list = [np.array([0., -10.818e3])] # m / s\n",
    "    times_list = [0]\n",
    "    position = position_list[0]\n",
    "    velocity = velocity_list[0]\n",
    "    current_time = 0.\n",
    "    h = 0.1 # s, set as initial step size right now but will store current step size\n",
    "    h_new = h # s, will store the adaptive step size of the next step\n",
    "    mcc2_burn_done = False\n",
    "    dps1_burn_done = False\n",
    "\n",
    "    while current_time < total_duration:\n",
    "        #Task 3: Include a retrograde rocket burn at 101104 seconds that reduces the velocity by 7.04 m/s\n",
    "        # and include a rocket burn that increases the velocity at 212100 seconds by the amount given in the variable called boost.\n",
    "        # Both velocity changes should happen in the direction of the rocket's motion at the time they occur.\n",
    "        \n",
    "        ###Your code here.\n",
    "        if mcc2_burn_done is False and current_time >= 101104:\n",
    "            velocity -= 7.04 * velocity / np.linalg.norm(velocity)\n",
    "            plt.scatter(position[0], position[1], s = 16., facecolor = 'g', edgecolor = 'none')\n",
    "            mcc2_burn_done = True\n",
    "        \n",
    "        if dps1_burn_done is False and current_time >= 212100:\n",
    "            velocity += boost * velocity / np.linalg.norm(velocity)\n",
    "            plt.scatter(position[0], position[1], s = 16., facecolor = 'g', edgecolor = 'none')\n",
    "            dps1_burn_done = True\n",
    "        #Task 4: Implement Heun's method with adaptive step size. Note that the time is advanced at the end of this while loop.\n",
    "        ###Your code here.\n",
    "        _acc = acceleration(current_time, position)\n",
    "        velocityE = velocity + h * _acc\n",
    "        positionE = position + h * velocityE\n",
    "        velocityH = velocity + h * 0.5 * (acceleration(current_time + h, positionE) + _acc)\n",
    "        positionH = position + h * 0.5 * (velocity + velocityE)\n",
    "        velocity = velocityH\n",
    "        position = positionH\n",
    "        ###Your code here.\n",
    "        error = np.linalg.norm(positionE - positionH) + total_duration * np.linalg.norm(velocityE - velocityH)\n",
    "        h_new = h * math.sqrt(tolerance/error)\n",
    "        h_new = min(0.5 * marker_time, max(0.1, h_new)) # restrict step size to reasonable range\n",
    "            \n",
    "        current_time += h\n",
    "        h = h_new\n",
    "        position_list.append(position.copy())\n",
    "        velocity_list.append(velocity.copy())\n",
    "        times_list.append(current_time)\n",
    "\n",
    "    return position_list, velocity_list, times_list, boost"
   ]
  },
  {
   "cell_type": "code",
   "execution_count": 64,
   "metadata": {},
   "outputs": [
    {
     "data": {
      "image/png": "[encoded data removed]",
      "text/plain": [
       "<Figure size 432x288 with 1 Axes>"
      ]
     },
     "metadata": {
      "needs_background": "light"
     },
     "output_type": "display_data"
    }
   ],
   "source": [
    "position, velocity, current_time, boost = apply_boost()\n"
   ]
  },
  {
   "cell_type": "code",
   "execution_count": 65,
   "metadata": {
    "collapsed": true
   },
   "outputs": [],
   "source": [
    "def plot_path(position_list, times_list):\n",
    "    axes = plt.gca()\n",
    "    axes.set_xlabel('Longitudinal position in m')\n",
    "    axes.set_ylabel('Lateral position in m')\n",
    "    previous_marker_number = -1;\n",
    "    for position, current_time in zip(position_list, times_list):\n",
    "         if current_time >= marker_time * previous_marker_number:\n",
    "            previous_marker_number += 1\n",
    "            plt.scatter(position[0], position[1], s = 2., facecolor = 'r', edgecolor = 'none')\n",
    "            moon_pos = moon_position(current_time)\n",
    "            if np.linalg.norm(position - moon_pos) < 30. * moon_radius: \n",
    "                axes.add_line(matplotlib.lines.Line2D([position[0], moon_pos[0]], [position[1], moon_pos[1]], alpha = 0.3, c = 'g')) \n",
    "    axes.add_patch(matplotlib.patches.CirclePolygon((0., 0.), earth_radius, facecolor = 'none', edgecolor = 'b'))\n",
    "    for i in range(int(total_duration / marker_time)):\n",
    "        moon_pos = moon_position(i * marker_time)\n",
    "        axes.add_patch(matplotlib.patches.CirclePolygon(moon_pos, moon_radius, facecolor = 'none', edgecolor = 'g', alpha = 0.7))\n",
    "\n",
    "    plt.axis('equal')"
   ]
  },
  {
   "cell_type": "code",
   "execution_count": 66,
   "metadata": {},
   "outputs": [
    {
     "data": {
      "image/png": "[encoded data removed]",
      "text/plain": [
       "<Figure size 432x288 with 1 Axes>"
      ]
     },
     "metadata": {
      "needs_background": "light"
     },
     "output_type": "display_data"
    }
   ],
   "source": [
    "plot_path(position, current_time)\n"
   ]
  },
  {
   "cell_type": "code",
   "execution_count": null,
   "metadata": {
    "collapsed": true
   },
   "outputs": [],
   "source": []
  }
 ],
 "metadata": {
  "kernelspec": {
   "display_name": "dataviz",
   "language": "python",
   "name": "dataviz"
  },
  "language_info": {
   "codemirror_mode": {
    "name": "ipython",
    "version": 3
   },
   "file_extension": ".py",
   "mimetype": "text/x-python",
   "name": "python",
   "nbconvert_exporter": "python",
   "pygments_lexer": "ipython3",
   "version": "3.8.3"
  }
 },
 "nbformat": 4,
 "nbformat_minor": 2
}
